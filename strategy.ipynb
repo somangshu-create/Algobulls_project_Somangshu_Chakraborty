{
 "cells": [
  {
   "cell_type": "code",
   "execution_count": 5,
   "id": "63a23873",
   "metadata": {},
   "outputs": [],
   "source": [
    "import pandas as pd\n",
    "import Script_Data\n",
    "from indicator import indicator1\n"
   ]
  },
  {
   "cell_type": "code",
   "execution_count": 9,
   "id": "e1f34bda",
   "metadata": {},
   "outputs": [
    {
     "name": "stdout",
     "output_type": "stream",
     "text": [
      "Collecting virtualenv\n",
      "  Downloading virtualenv-20.19.0-py3-none-any.whl (8.7 MB)\n",
      "Collecting filelock<4,>=3.4.1\n",
      "  Downloading filelock-3.9.0-py3-none-any.whl (9.7 kB)\n",
      "Collecting distlib<1,>=0.3.6\n",
      "  Using cached distlib-0.3.6-py2.py3-none-any.whl (468 kB)\n",
      "Collecting platformdirs<4,>=2.4\n",
      "  Downloading platformdirs-3.0.0-py3-none-any.whl (14 kB)\n",
      "Installing collected packages: platformdirs, filelock, distlib, virtualenv\n",
      "  Attempting uninstall: filelock\n",
      "    Found existing installation: filelock 3.0.12\n",
      "    Uninstalling filelock-3.0.12:\n",
      "      Successfully uninstalled filelock-3.0.12\n",
      "Successfully installed distlib-0.3.6 filelock-3.9.0 platformdirs-3.0.0 virtualenv-20.19.0\n",
      "Note: you may need to restart the kernel to use updated packages.\n"
     ]
    }
   ],
   "source": []
  },
  {
   "cell_type": "code",
   "execution_count": 5,
   "id": "c439805a",
   "metadata": {},
   "outputs": [
    {
     "ename": "SyntaxError",
     "evalue": "invalid syntax (<ipython-input-5-18ea21cae8b1>, line 1)",
     "output_type": "error",
     "traceback": [
      "\u001b[1;36m  File \u001b[1;32m\"<ipython-input-5-18ea21cae8b1>\"\u001b[1;36m, line \u001b[1;32m1\u001b[0m\n\u001b[1;33m    virtualenv env\u001b[0m\n\u001b[1;37m               ^\u001b[0m\n\u001b[1;31mSyntaxError\u001b[0m\u001b[1;31m:\u001b[0m invalid syntax\n"
     ]
    }
   ],
   "source": []
  },
  {
   "cell_type": "code",
   "execution_count": 7,
   "id": "a3ea269a",
   "metadata": {},
   "outputs": [],
   "source": [
    "class Strategy:\n",
    "    # initiating a object of script data class as attribute\n",
    "    def __init__(self):\n",
    "        self.obj = Script_Data.ScriptData()\n",
    "\n",
    "    def generate_signals(self, script: str) -> pd.DataFrame:\n",
    "        \"\"\"\n",
    "            Generate signals for the given script name.\n",
    "\n",
    "            Args:\n",
    "                script (str): The name of the script to generate signals for.\n",
    "\n",
    "            Returns:\n",
    "                pandas.DataFrame: A DataFrame containing the signals for the given script.\n",
    "        \"\"\"\n",
    "        # getting the data\n",
    "        stock_data = self.obj.convert_intraday_data(script)\n",
    "        close_data = stock_data[\"close\"]\n",
    "        indicator_data = indicator1(df=stock_data, timeperiod=5)[\"indicator\"]\n",
    "\n",
    "        # Creating the dataframe\n",
    "        signals = pd.DataFrame({\"timestamp\": stock_data[\"timestamp\"]})\n",
    "\n",
    "        # Initializing all timestamps with no signal then changing according to the data\n",
    "        signals[\"signal\"] = \"NO_SIGNAL\"\n",
    "\n",
    "        # Modifying the signals dataframe for buy and sell timestamps\n",
    "        for index in range(0, len(indicator_data)):\n",
    "            # close and indicator data Crossed and Cut Upwards\n",
    "            if close_data.iloc[index] > indicator_data.iloc[index] and \\\n",
    "                    close_data.iloc[index - 1] < indicator_data.iloc[index - 1]:\n",
    "                signals.at[index, \"signal\"] = \"BUY\"\n",
    "\n",
    "            # close and indicator data crossed and cut downwards\n",
    "            elif close_data.iloc[index] < indicator_data.iloc[index] and \\\n",
    "                    close_data.iloc[index - 1] > indicator_data.iloc[index - 1]:\n",
    "                signals.at[index, \"signal\"] = \"SELL\"\n",
    "\n",
    "            else:\n",
    "                continue\n",
    "\n",
    "        # getting the indexes with no signal and dropping them\n",
    "        index_names = signals[signals[\"signal\"] == \"NO_SIGNAL\"].index\n",
    "        signals.drop(labels=index_names, inplace=True)\n",
    "\n",
    "        return signals\n"
   ]
  },
  {
   "cell_type": "code",
   "execution_count": 8,
   "id": "a0bc161f",
   "metadata": {},
   "outputs": [
    {
     "name": "stdout",
     "output_type": "stream",
     "text": [
      "             timestamp signal\n",
      "8  2023-02-15 19:20:00    BUY\n",
      "11 2023-02-15 19:05:00   SELL\n",
      "13 2023-02-15 18:55:00    BUY\n",
      "17 2023-02-15 18:35:00   SELL\n",
      "23 2023-02-15 18:05:00    BUY\n",
      "24 2023-02-15 18:00:00   SELL\n",
      "27 2023-02-15 17:45:00    BUY\n",
      "32 2023-02-15 17:20:00   SELL\n",
      "36 2023-02-15 17:00:00    BUY\n",
      "40 2023-02-15 16:40:00   SELL\n",
      "43 2023-02-15 16:25:00    BUY\n",
      "44 2023-02-15 16:20:00   SELL\n",
      "46 2023-02-15 16:10:00    BUY\n",
      "49 2023-02-15 15:55:00   SELL\n",
      "52 2023-02-15 15:40:00    BUY\n",
      "54 2023-02-15 15:30:00   SELL\n",
      "58 2023-02-15 15:10:00    BUY\n",
      "68 2023-02-15 14:20:00   SELL\n",
      "69 2023-02-15 14:15:00    BUY\n",
      "70 2023-02-15 14:10:00   SELL\n",
      "75 2023-02-15 13:45:00    BUY\n",
      "76 2023-02-15 13:40:00   SELL\n",
      "81 2023-02-15 13:15:00    BUY\n",
      "82 2023-02-15 13:10:00   SELL\n",
      "85 2023-02-15 12:55:00    BUY\n",
      "88 2023-02-15 12:40:00   SELL\n",
      "92 2023-02-15 12:20:00    BUY\n",
      "94 2023-02-15 12:10:00   SELL\n",
      "95 2023-02-15 12:05:00    BUY\n",
      "96 2023-02-15 12:00:00   SELL\n",
      "97 2023-02-15 11:55:00    BUY\n"
     ]
    }
   ],
   "source": [
    "# creating a object from strategy class\n",
    "strategy = Strategy()\n",
    "df = strategy.generate_signals(\"GOOGL\")\n",
    "print(df)\n"
   ]
  },
  {
   "cell_type": "code",
   "execution_count": null,
   "id": "28d143f5",
   "metadata": {},
   "outputs": [],
   "source": []
  }
 ],
 "metadata": {
  "kernelspec": {
   "display_name": "Python 3",
   "language": "python",
   "name": "python3"
  },
  "language_info": {
   "codemirror_mode": {
    "name": "ipython",
    "version": 3
   },
   "file_extension": ".py",
   "mimetype": "text/x-python",
   "name": "python",
   "nbconvert_exporter": "python",
   "pygments_lexer": "ipython3",
   "version": "3.8.8"
  }
 },
 "nbformat": 4,
 "nbformat_minor": 5
}
